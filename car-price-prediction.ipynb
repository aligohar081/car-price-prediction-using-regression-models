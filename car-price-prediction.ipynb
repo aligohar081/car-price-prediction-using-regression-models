import pandas as pd
import numpy as np  
import matplotlib.pyplot as plt
import seaborn as sns
from scipy import stats
from sklearn.linear_model import LinearRegression
from sklearn.metrics import mean_squared_error, r2_score
from sklearn.preprocessing import PolynomialFeatures
from sklearn.pipeline import Pipeline
from sklearn.preprocessing import StandardScaler
from sklearn.model_selection import train_test_split

# Read the dataset
path = 'dataset/automobileEDA.csv'
df = pd.read_csv(path)

# Data Preprocessing
# Check for missing values
print(df.isnull().sum())

# Drop rows with missing values
df.dropna(inplace=True)

# Outlier Detection and Treatment (optional)

# Feature Engineering (optional)
# Explore creating new features or transforming existing ones

# Model Training and Evaluation
# Split data into training and testing sets
X = df[['highway-mpg']]
y = df['price']
X_train, X_test, y_train, y_test = train_test_split(X, y, test_size=0.2, random_state=42)

# Linear Regression
lm = LinearRegression()
lm.fit(X_train, y_train)
y_pred_lm = lm.predict(X_test)

# Polynomial Regression
poly = PolynomialFeatures(degree=2)  # Try different degrees
X_poly = poly.fit_transform(X_train)
lm_poly = LinearRegression()
lm_poly.fit(X_poly, y_train)
X_test_poly = poly.transform(X_test)
y_pred_poly = lm_poly.predict(X_test_poly)

# Model Evaluation
# Evaluate Linear Regression
mse_lm = mean_squared_error(y_test, y_pred_lm)
r2_lm = r2_score(y_test, y_pred_lm)
print("Linear Regression Mean Squared Error:", mse_lm)
print("Linear Regression R-squared:", r2_lm)

# Evaluate Polynomial Regression
mse_poly = mean_squared_error(y_test, y_pred_poly)
r2_poly = r2_score(y_test, y_pred_poly)
print("Polynomial Regression Mean Squared Error:", mse_poly)
print("Polynomial Regression R-squared:", r2_poly)

# Visualization (optional)
plt.scatter(X_test, y_test, color='black')
plt.plot(X_test, y_pred_lm, color='blue', linewidth=3, label='Linear Regression')
plt.plot(X_test, y_pred_poly, color='red', linewidth=3, label='Polynomial Regression')
plt.xlabel('Highway MPG')
plt.ylabel('Price')
plt.legend()
plt.show()
